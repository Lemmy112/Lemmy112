{
 "cells": [
  {
   "cell_type": "markdown",
   "metadata": {
    "nbgrader": {
     "grade": false,
     "grade_id": "cell-214c7fa133835e0c",
     "locked": true,
     "schema_version": 3,
     "solution": false,
     "task": false
    }
   },
   "source": [
    "# Required end of module assignment: Non-linear optimization\n",
    "---\n",
    "\n",
    "## Overview\n",
    "\n",
    "In this activity, you will review problems involving non-linear optimization using `scipy`, `pypfopt`, and `scikitlearn`.\n",
    "\n",
    "This activity is designed to build your familiarity and comfort coding in Python while also helping you review key topics from each module. As you progress through the activity, questions will get increasingly more complex. It is important that you adopt a programmer's mindset when completing this activity. Remember to run your code from each cell before submitting your activity, as doing so will give you a chance to fix any errors before submitting.\n",
    "\n",
    "\n",
    "\n",
    "### Learning outcome addressed\n",
    "\n",
    "- Integrate optimisation into an end-to-end data science project."
   ]
  },
  {
   "cell_type": "markdown",
   "metadata": {
    "nbgrader": {
     "grade": false,
     "grade_id": "cell-6d9ee0eb964cd7e5",
     "locked": true,
     "schema_version": 1,
     "solution": false
    }
   },
   "source": [
    "\n",
    "## Index:\n",
    "\n",
    "- [Question 1](#Question-1)\n",
    "- [Question 2](#Question-2)\n",
    "- [Question 3](#Question-3)\n",
    "- [Question 4](#Question-4)"
   ]
  },
  {
   "cell_type": "code",
   "execution_count": 1,
   "metadata": {
    "nbgrader": {
     "grade": false,
     "grade_id": "cell-f24dd37e06e8df46",
     "locked": true,
     "schema_version": 3,
     "solution": false,
     "task": false
    }
   },
   "outputs": [],
   "source": [
    "import numpy as np\n",
    "import pandas as pd\n",
    "import matplotlib.pyplot as plt\n",
    "import seaborn as sns\n",
    "from scipy.optimize import minimize\n",
    "\n",
    "from sklearn.preprocessing import OneHotEncoder, StandardScaler\n",
    "from sklearn.compose import make_column_transformer\n",
    "from sklearn.linear_model import Lasso\n",
    "from sklearn.pipeline import Pipeline"
   ]
  },
  {
   "cell_type": "code",
   "execution_count": 2,
   "metadata": {
    "nbgrader": {
     "grade": false,
     "grade_id": "cell-fad1989d7999c011",
     "locked": true,
     "schema_version": 3,
     "solution": false,
     "task": false
    }
   },
   "outputs": [
    {
     "name": "stdout",
     "output_type": "stream",
     "text": [
      "Requirement already satisfied: PyPortfolioOpt in /home/codio/.pyenv/versions/3.11.2/lib/python3.11/site-packages (1.5.5)\n",
      "Requirement already satisfied: cvxpy<2.0.0,>=1.1.19 in /home/codio/.pyenv/versions/3.11.2/lib/python3.11/site-packages (from PyPortfolioOpt) (1.3.2)\n",
      "Requirement already satisfied: numpy<2.0.0,>=1.22.4 in /home/codio/.pyenv/versions/3.11.2/lib/python3.11/site-packages (from PyPortfolioOpt) (1.24.2)\n",
      "Requirement already satisfied: pandas>=0.19 in /home/codio/.pyenv/versions/3.11.2/lib/python3.11/site-packages (from PyPortfolioOpt) (2.0.1)\n",
      "Requirement already satisfied: scipy<2.0,>=1.3 in /home/codio/.pyenv/versions/3.11.2/lib/python3.11/site-packages (from PyPortfolioOpt) (1.10.1)\n",
      "Requirement already satisfied: osqp>=0.4.1 in /home/codio/.pyenv/versions/3.11.2/lib/python3.11/site-packages (from cvxpy<2.0.0,>=1.1.19->PyPortfolioOpt) (0.6.3)\n",
      "Requirement already satisfied: ecos>=2 in /home/codio/.pyenv/versions/3.11.2/lib/python3.11/site-packages (from cvxpy<2.0.0,>=1.1.19->PyPortfolioOpt) (2.0.12)\n",
      "Requirement already satisfied: scs>=1.1.6 in /home/codio/.pyenv/versions/3.11.2/lib/python3.11/site-packages (from cvxpy<2.0.0,>=1.1.19->PyPortfolioOpt) (3.2.3)\n",
      "Requirement already satisfied: setuptools>65.5.1 in /home/codio/.pyenv/versions/3.11.2/lib/python3.11/site-packages (from cvxpy<2.0.0,>=1.1.19->PyPortfolioOpt) (68.2.2)\n",
      "Requirement already satisfied: python-dateutil>=2.8.2 in /home/codio/.pyenv/versions/3.11.2/lib/python3.11/site-packages (from pandas>=0.19->PyPortfolioOpt) (2.8.2)\n",
      "Requirement already satisfied: pytz>=2020.1 in /home/codio/.pyenv/versions/3.11.2/lib/python3.11/site-packages (from pandas>=0.19->PyPortfolioOpt) (2023.3)\n",
      "Requirement already satisfied: tzdata>=2022.1 in /home/codio/.pyenv/versions/3.11.2/lib/python3.11/site-packages (from pandas>=0.19->PyPortfolioOpt) (2023.3)\n",
      "Requirement already satisfied: qdldl in /home/codio/.pyenv/versions/3.11.2/lib/python3.11/site-packages (from osqp>=0.4.1->cvxpy<2.0.0,>=1.1.19->PyPortfolioOpt) (0.1.7.post0)\n",
      "Requirement already satisfied: six>=1.5 in /home/codio/.pyenv/versions/3.11.2/lib/python3.11/site-packages (from python-dateutil>=2.8.2->pandas>=0.19->PyPortfolioOpt) (1.16.0)\n",
      "\n",
      "\u001b[1m[\u001b[0m\u001b[34;49mnotice\u001b[0m\u001b[1;39;49m]\u001b[0m\u001b[39;49m A new release of pip is available: \u001b[0m\u001b[31;49m23.1.2\u001b[0m\u001b[39;49m -> \u001b[0m\u001b[32;49m23.2.1\u001b[0m\n",
      "\u001b[1m[\u001b[0m\u001b[34;49mnotice\u001b[0m\u001b[1;39;49m]\u001b[0m\u001b[39;49m To update, run: \u001b[0m\u001b[32;49mpip install --upgrade pip\u001b[0m\n"
     ]
    }
   ],
   "source": [
    "!pip install PyPortfolioOpt"
   ]
  },
  {
   "cell_type": "markdown",
   "metadata": {
    "nbgrader": {
     "grade": false,
     "grade_id": "cell-a320b8b649fa18df",
     "locked": true,
     "schema_version": 3,
     "solution": false,
     "task": false
    }
   },
   "source": [
    "### Nonlinear optimisation\n",
    "\n",
    "In general, finding a maximum or minimum value of an objective function that is nonlinear presents a number of difficulties.  Earlier in the programme, these ideas were discussed in relation to gradient descent and the Nelder-Mead method.  Once constraints are incorporated, additional methods need to be consulted.  The objective of this module is to demonstrate some problem applications of nonlinear optimisation including constraints.  In this activity, you will explore general problems involving non-linear optimization with constraints using `scipy`, review your portfolio optimization work with `pyoptf`, and use Lasso regression to eliminate features in a regression setting.\n"
   ]
  },
  {
   "cell_type": "markdown",
   "metadata": {
    "nbgrader": {
     "grade": false,
     "grade_id": "cell-1a9cfe83c1dee94f",
     "locked": true,
     "schema_version": 3,
     "solution": false,
     "task": false
    }
   },
   "source": [
    "#### Example\n",
    "\n",
    "Consider the function $f(x, y) = x^2 + y^2$ defined and plotted below.  This function is convex, and has a readily accessible minimum.  To use `minimize`, the function is redefined where an array is input.  Using `minimize` requires a function that is a collection as an input."
   ]
  },
  {
   "cell_type": "code",
   "execution_count": 3,
   "metadata": {
    "nbgrader": {
     "grade": false,
     "grade_id": "cell-64e73e38ed9ea87b",
     "locked": true,
     "schema_version": 3,
     "solution": false,
     "task": false
    }
   },
   "outputs": [],
   "source": [
    "x = np.linspace(-5, 5, 100)\n",
    "y = np.linspace(-5, 5, 100)\n",
    "X, Y = np.meshgrid(x, y)"
   ]
  },
  {
   "cell_type": "code",
   "execution_count": 4,
   "metadata": {
    "nbgrader": {
     "grade": false,
     "grade_id": "cell-75b9315cacbfa2fa",
     "locked": true,
     "schema_version": 3,
     "solution": false,
     "task": false
    }
   },
   "outputs": [],
   "source": [
    "def f(x, y):\n",
    "    return x**2 + y**2"
   ]
  },
  {
   "cell_type": "code",
   "execution_count": 5,
   "metadata": {
    "nbgrader": {
     "grade": false,
     "grade_id": "cell-2cc1ef6d7d25d1e9",
     "locked": true,
     "schema_version": 3,
     "solution": false,
     "task": false
    }
   },
   "outputs": [
    {
     "data": {
      "image/png": "[encoded data removed]",
      "text/plain": [
       "<Figure size 640x480 with 1 Axes>"
      ]
     },
     "metadata": {},
     "output_type": "display_data"
    }
   ],
   "source": [
    "ax = plt.axes(projection = '3d')\n",
    "ax.plot_surface(X, Y, f(X, Y))\n",
    "plt.title(r'$z = x^2 + y^2$');"
   ]
  },
  {
   "cell_type": "code",
   "execution_count": 6,
   "metadata": {
    "nbgrader": {
     "grade": false,
     "grade_id": "cell-a3fa1ac62430caf2",
     "locked": true,
     "schema_version": 3,
     "solution": false,
     "task": false
    }
   },
   "outputs": [],
   "source": [
    "#input as collection for the minimize function\n",
    "def f(x):\n",
    "    return x[0]**2 + x[1]**2"
   ]
  },
  {
   "cell_type": "code",
   "execution_count": 7,
   "metadata": {
    "nbgrader": {
     "grade": false,
     "grade_id": "cell-4cae3d4ef1dc29a3",
     "locked": true,
     "schema_version": 3,
     "solution": false,
     "task": false
    }
   },
   "outputs": [],
   "source": [
    "#find minimum with x0 = [2, 3] -- default is nelder meade\n",
    "results = minimize(f, x0 = [2, 3])"
   ]
  },
  {
   "cell_type": "code",
   "execution_count": 8,
   "metadata": {
    "nbgrader": {
     "grade": false,
     "grade_id": "cell-4c749a9b12202f7f",
     "locked": true,
     "schema_version": 3,
     "solution": false,
     "task": false
    }
   },
   "outputs": [
    {
     "name": "stdout",
     "output_type": "stream",
     "text": [
      "[ 1.89481791e-07 -1.41289459e-07]\n"
     ]
    }
   ],
   "source": [
    "print(results.x)"
   ]
  },
  {
   "cell_type": "markdown",
   "metadata": {
    "nbgrader": {
     "grade": false,
     "grade_id": "cell-feb960a9e7a768a5",
     "locked": true,
     "schema_version": 3,
     "solution": false,
     "task": false
    }
   },
   "source": [
    "Consider the same problem with a constraint.\n",
    "\n",
    "$$\\text{minimize} \\quad x^2 + y^2$$\n",
    "$$ x^4 + y^4 = 1$$\n",
    "\n",
    "To incorporate the constraint, a function is defined that represents where the equation equals zero.  In the case of an inequality the constraint should be strictly positive.  The constraint function is referred to in a dictionary where both the constraint function is specified as an inequality or equality."
   ]
  },
  {
   "cell_type": "code",
   "execution_count": 9,
   "metadata": {
    "nbgrader": {
     "grade": false,
     "grade_id": "cell-6b1470f5e14e4bc8",
     "locked": true,
     "schema_version": 3,
     "solution": false,
     "task": false
    }
   },
   "outputs": [],
   "source": [
    "#constraint function\n",
    "def constraint(x):\n",
    "    return x[0]**4 + x[1]**4 - 1"
   ]
  },
  {
   "cell_type": "code",
   "execution_count": 10,
   "metadata": {
    "nbgrader": {
     "grade": false,
     "grade_id": "cell-bdf86e3a23aba9f9",
     "locked": true,
     "schema_version": 3,
     "solution": false,
     "task": false
    }
   },
   "outputs": [],
   "source": [
    "#dictionary with constraints\n",
    "constraints = {'type': 'eq', 'fun': constraint}"
   ]
  },
  {
   "cell_type": "code",
   "execution_count": 11,
   "metadata": {
    "nbgrader": {
     "grade": false,
     "grade_id": "cell-a004bf2c2a3b0c4a",
     "locked": true,
     "schema_version": 3,
     "solution": false,
     "task": false
    }
   },
   "outputs": [],
   "source": [
    "results2 = minimize(f, \n",
    "                   x0 = [-3, 3], \n",
    "                   constraints=constraints)"
   ]
  },
  {
   "cell_type": "code",
   "execution_count": 12,
   "metadata": {
    "nbgrader": {
     "grade": false,
     "grade_id": "cell-11f530b3df584626",
     "locked": true,
     "schema_version": 3,
     "solution": false,
     "task": false
    }
   },
   "outputs": [
    {
     "data": {
      "text/plain": [
       " message: Optimization terminated successfully\n",
       " success: True\n",
       "  status: 0\n",
       "     fun: 1.4142120688993371\n",
       "       x: [-8.402e-01  8.416e-01]\n",
       "     nit: 9\n",
       "     jac: [-1.681e+00  1.683e+00]\n",
       "    nfev: 29\n",
       "    njev: 9"
      ]
     },
     "execution_count": 12,
     "metadata": {},
     "output_type": "execute_result"
    }
   ],
   "source": [
    "results2"
   ]
  },
  {
   "cell_type": "code",
   "execution_count": 13,
   "metadata": {
    "nbgrader": {
     "grade": false,
     "grade_id": "cell-c1b64c6c9c93e651",
     "locked": true,
     "schema_version": 3,
     "solution": false,
     "task": false
    }
   },
   "outputs": [
    {
     "name": "stdout",
     "output_type": "stream",
     "text": [
      "[-0.84016803  0.84162328]\n"
     ]
    }
   ],
   "source": [
    "print(results2.x)"
   ]
  },
  {
   "cell_type": "markdown",
   "metadata": {
    "nbgrader": {
     "grade": false,
     "grade_id": "cell-39becf05d1749a71",
     "locked": true,
     "schema_version": 3,
     "solution": false,
     "task": false
    }
   },
   "source": [
    "###### [Back to top](#Index:)\n",
    "\n",
    "### Question 1\n",
    "\n",
    "Use a similar approach to that above to solve the optimization problem below:\n",
    "\n",
    "$$\\text{minimize} \\quad (x - 1)^2 + (y - 2)^2$$\n",
    "$$\\text{subject to} \\quad x^2 + y^2 = 80$$\n",
    "\n",
    "Assign the `minimize` results as `results` and the solution point (x,y) as an array to `ans1` below. Use `x0 = [1, 1]` as given."
   ]
  },
  {
   "cell_type": "code",
   "execution_count": 14,
   "metadata": {
    "nbgrader": {
     "grade": false,
     "grade_id": "cell-cb7e16521a45d15a",
     "locked": false,
     "schema_version": 3,
     "solution": true,
     "task": false
    }
   },
   "outputs": [
    {
     "name": "stdout",
     "output_type": "stream",
     "text": [
      "[4.00000059 7.9999997 ]\n"
     ]
    }
   ],
   "source": [
    "x0 = [1, 1]\n",
    "results = ''\n",
    "\n",
    "###BEGIN SOLUTION\n",
    "def f(x):\n",
    "    return (x[0]-1)**2 + (x[1] - 2)**2\n",
    "def c(x):\n",
    "    return x[0]**2 + x[1]**2 - 80 \n",
    "constraints = {'type': 'eq', 'fun': c}\n",
    "results = minimize(f, [1, 1], constraints=constraints)\n",
    "###END SOLUTION\n",
    "#Answer check\n",
    "print(results.x)"
   ]
  },
  {
   "cell_type": "code",
   "execution_count": 15,
   "metadata": {
    "nbgrader": {
     "grade": true,
     "grade_id": "cell-0dca2f482ebae521",
     "locked": true,
     "points": 1,
     "schema_version": 3,
     "solution": false,
     "task": false
    }
   },
   "outputs": [],
   "source": [
    "### BEGIN HIDDEN TESTS\n",
    "x0 = [1, 1]\n",
    "def f_(x):\n",
    "    return (x[0]-1)**2 + (x[1] - 2)**2\n",
    "def c_(x):\n",
    "    return x[0]**2 + x[1]**2 - 80 \n",
    "constraints_ = {'type': 'eq', 'fun': c}\n",
    "results_ = minimize(f_, [1, 1], constraints=constraints_)\n",
    "\n",
    "\n",
    "\n",
    "#\n",
    "#\n",
    "#\n",
    "assert type(results) == type(results_)\n",
    "np.testing.assert_array_almost_equal(results.x, results_.x)\n",
    "### END HIDDEN TESTS"
   ]
  },
  {
   "cell_type": "markdown",
   "metadata": {
    "nbgrader": {
     "grade": false,
     "grade_id": "cell-a995e1680acc747e",
     "locked": true,
     "schema_version": 3,
     "solution": false,
     "task": false
    }
   },
   "source": [
    "###### [Back to top](#Index:)\n",
    "\n",
    "### Question 2\n",
    "\n",
    "A company produces two products -- $x$ and $y$.  Due to labor management, the production is subject to the constraint $x + y = 42$.  Given the cost function \n",
    "\n",
    "$$c(x,y) = 8x^2 - xy + 12y^2$$\n",
    "\n",
    "find the levels of production that minimize the cost given the constraint.  Assign your solution results object as `cost_results` and the solution points $(x,y)$ as an array to `min_cost` below.  Use `x0 = [1,1]` as given below.  "
   ]
  },
  {
   "cell_type": "code",
   "execution_count": 16,
   "metadata": {
    "nbgrader": {
     "grade": false,
     "grade_id": "cell-2ceec433b3301596",
     "locked": false,
     "schema_version": 3,
     "solution": true,
     "task": false
    }
   },
   "outputs": [
    {
     "name": "stdout",
     "output_type": "stream",
     "text": [
      "The firm should product  25 of product x and  17 of product y.\n"
     ]
    }
   ],
   "source": [
    "x0 = [1, 1]\n",
    "cost_results = ''\n",
    "min_cost = ''\n",
    "\n",
    "###BEGIN SOLUTION\n",
    "def f(x):\n",
    "    return 8*x[0]**2 - x[0]*x[1] + 12*x[1]**2\n",
    "def c(x):\n",
    "    return x[0] + x[1] - 42\n",
    "constraints = {'type': 'eq', 'fun': c}\n",
    "cost_results = minimize(f, [1, 1], constraints=constraints)\n",
    "min_cost = cost_results.x\n",
    "###END SOLUTION\n",
    "print(f'The firm should product {min_cost[0]: .0f} of product x and {min_cost[1]: .0f} of product y.')"
   ]
  },
  {
   "cell_type": "code",
   "execution_count": 17,
   "metadata": {
    "nbgrader": {
     "grade": true,
     "grade_id": "cell-ae950733794998b5",
     "locked": true,
     "points": 1,
     "schema_version": 3,
     "solution": false,
     "task": false
    }
   },
   "outputs": [],
   "source": [
    "### BEGIN HIDDEN TESTS\n",
    "x0_ = [1, 1]\n",
    "def f(x):\n",
    "    return 8*x[0]**2 - x[0]*x[1] + 12*x[1]**2\n",
    "def c(x):\n",
    "    return x[0] + x[1] - 42\n",
    "constraints_ = {'type': 'eq', 'fun': c}\n",
    "cost_results_ = minimize(f, [1, 1], constraints=constraints_)\n",
    "min_cost_ = cost_results_.x\n",
    "\n",
    "\n",
    "\n",
    "#\n",
    "#\n",
    "#\n",
    "assert type(cost_results) == type(cost_results_)\n",
    "np.testing.assert_array_almost_equal(min_cost, min_cost_)\n",
    "### END HIDDEN TESTS"
   ]
  },
  {
   "cell_type": "markdown",
   "metadata": {
    "nbgrader": {
     "grade": false,
     "grade_id": "cell-526c53db83264607",
     "locked": true,
     "schema_version": 3,
     "solution": false,
     "task": false
    }
   },
   "source": [
    "###### [Back to top](#Index:)\n",
    "\n",
    "### Question 3\n",
    "\n",
    "A dataset containing stock prices for twenty popular tickers.  Use the `mean_historical_returns` and `sample_cov` functions together with the `EfficientFrontier` class from `pyfopt` to compute the optimal portfolio with the `max_sharpe` ratio.  Assign the mean as `mu` and covariance as `sigma`, efficient frontier as `frontier` and the optimal solution as `max_sharpe`."
   ]
  },
  {
   "cell_type": "code",
   "execution_count": 18,
   "metadata": {
    "nbgrader": {
     "grade": false,
     "grade_id": "cell-7fa3be54644d0618",
     "locked": true,
     "schema_version": 3,
     "solution": false,
     "task": false
    }
   },
   "outputs": [],
   "source": [
    "from pypfopt import EfficientFrontier\n",
    "from pypfopt.risk_models import sample_cov\n",
    "from pypfopt.expected_returns import mean_historical_return"
   ]
  },
  {
   "cell_type": "code",
   "execution_count": 19,
   "metadata": {
    "nbgrader": {
     "grade": false,
     "grade_id": "cell-ee26e52f66a0e260",
     "locked": true,
     "schema_version": 3,
     "solution": false,
     "task": false
    }
   },
   "outputs": [],
   "source": [
    "stocks = pd.read_csv('stock_sample.csv', index_col=0, parse_dates=True).dropna()"
   ]
  },
  {
   "cell_type": "code",
   "execution_count": 20,
   "metadata": {
    "nbgrader": {
     "grade": false,
     "grade_id": "cell-4085281a4c6452fb",
     "locked": true,
     "schema_version": 3,
     "solution": false,
     "task": false
    }
   },
   "outputs": [
    {
     "data": {
      "text/html": [
       "<div>\n",
       "<style scoped>\n",
       "    .dataframe tbody tr th:only-of-type {\n",
       "        vertical-align: middle;\n",
       "    }\n",
       "\n",
       "    .dataframe tbody tr th {\n",
       "        vertical-align: top;\n",
       "    }\n",
       "\n",
       "    .dataframe thead th {\n",
       "        text-align: right;\n",
       "    }\n",
       "</style>\n",
       "<table border=\"1\" class=\"dataframe\">\n",
       "  <thead>\n",
       "    <tr style=\"text-align: right;\">\n",
       "      <th></th>\n",
       "      <th>GOOG</th>\n",
       "      <th>AAPL</th>\n",
       "      <th>FB</th>\n",
       "      <th>BABA</th>\n",
       "      <th>AMZN</th>\n",
       "      <th>GE</th>\n",
       "      <th>AMD</th>\n",
       "      <th>WMT</th>\n",
       "      <th>BAC</th>\n",
       "      <th>GM</th>\n",
       "      <th>T</th>\n",
       "      <th>UAA</th>\n",
       "      <th>SHLD</th>\n",
       "      <th>XOM</th>\n",
       "      <th>RRC</th>\n",
       "      <th>BBY</th>\n",
       "      <th>MA</th>\n",
       "      <th>PFE</th>\n",
       "      <th>JPM</th>\n",
       "      <th>SBUX</th>\n",
       "    </tr>\n",
       "    <tr>\n",
       "      <th>date</th>\n",
       "      <th></th>\n",
       "      <th></th>\n",
       "      <th></th>\n",
       "      <th></th>\n",
       "      <th></th>\n",
       "      <th></th>\n",
       "      <th></th>\n",
       "      <th></th>\n",
       "      <th></th>\n",
       "      <th></th>\n",
       "      <th></th>\n",
       "      <th></th>\n",
       "      <th></th>\n",
       "      <th></th>\n",
       "      <th></th>\n",
       "      <th></th>\n",
       "      <th></th>\n",
       "      <th></th>\n",
       "      <th></th>\n",
       "      <th></th>\n",
       "    </tr>\n",
       "  </thead>\n",
       "  <tbody>\n",
       "    <tr>\n",
       "      <th>2014-09-19</th>\n",
       "      <td>592.820374</td>\n",
       "      <td>94.772141</td>\n",
       "      <td>77.910004</td>\n",
       "      <td>93.889999</td>\n",
       "      <td>331.320007</td>\n",
       "      <td>23.421017</td>\n",
       "      <td>3.81</td>\n",
       "      <td>70.009918</td>\n",
       "      <td>16.123091</td>\n",
       "      <td>29.257343</td>\n",
       "      <td>29.198288</td>\n",
       "      <td>34.205002</td>\n",
       "      <td>25.780445</td>\n",
       "      <td>85.865265</td>\n",
       "      <td>70.663109</td>\n",
       "      <td>31.521009</td>\n",
       "      <td>75.214302</td>\n",
       "      <td>26.790411</td>\n",
       "      <td>55.553379</td>\n",
       "      <td>35.699104</td>\n",
       "    </tr>\n",
       "    <tr>\n",
       "      <th>2014-09-22</th>\n",
       "      <td>584.157959</td>\n",
       "      <td>94.866035</td>\n",
       "      <td>76.800003</td>\n",
       "      <td>89.889999</td>\n",
       "      <td>324.500000</td>\n",
       "      <td>23.233936</td>\n",
       "      <td>3.76</td>\n",
       "      <td>69.527008</td>\n",
       "      <td>16.199184</td>\n",
       "      <td>28.826324</td>\n",
       "      <td>29.222982</td>\n",
       "      <td>33.235001</td>\n",
       "      <td>25.519661</td>\n",
       "      <td>85.352486</td>\n",
       "      <td>69.379227</td>\n",
       "      <td>30.664898</td>\n",
       "      <td>74.124245</td>\n",
       "      <td>26.596525</td>\n",
       "      <td>55.371559</td>\n",
       "      <td>35.009247</td>\n",
       "    </tr>\n",
       "    <tr>\n",
       "      <th>2014-09-23</th>\n",
       "      <td>577.952087</td>\n",
       "      <td>96.349190</td>\n",
       "      <td>78.290001</td>\n",
       "      <td>87.169998</td>\n",
       "      <td>323.630005</td>\n",
       "      <td>23.180481</td>\n",
       "      <td>3.69</td>\n",
       "      <td>68.880135</td>\n",
       "      <td>16.218208</td>\n",
       "      <td>28.636683</td>\n",
       "      <td>29.025425</td>\n",
       "      <td>33.439999</td>\n",
       "      <td>25.780445</td>\n",
       "      <td>84.901581</td>\n",
       "      <td>69.112587</td>\n",
       "      <td>30.382578</td>\n",
       "      <td>73.491615</td>\n",
       "      <td>26.481960</td>\n",
       "      <td>55.398842</td>\n",
       "      <td>34.708897</td>\n",
       "    </tr>\n",
       "    <tr>\n",
       "      <th>2014-09-24</th>\n",
       "      <td>584.774597</td>\n",
       "      <td>95.513741</td>\n",
       "      <td>78.540001</td>\n",
       "      <td>90.570000</td>\n",
       "      <td>328.209991</td>\n",
       "      <td>23.100300</td>\n",
       "      <td>3.70</td>\n",
       "      <td>70.228569</td>\n",
       "      <td>16.341869</td>\n",
       "      <td>29.007357</td>\n",
       "      <td>29.140667</td>\n",
       "      <td>34.340000</td>\n",
       "      <td>24.597599</td>\n",
       "      <td>84.715904</td>\n",
       "      <td>68.085464</td>\n",
       "      <td>30.956347</td>\n",
       "      <td>74.990425</td>\n",
       "      <td>26.711092</td>\n",
       "      <td>56.026096</td>\n",
       "      <td>35.347137</td>\n",
       "    </tr>\n",
       "    <tr>\n",
       "      <th>2014-09-25</th>\n",
       "      <td>571.915283</td>\n",
       "      <td>91.871544</td>\n",
       "      <td>77.220001</td>\n",
       "      <td>88.919998</td>\n",
       "      <td>321.929993</td>\n",
       "      <td>22.761770</td>\n",
       "      <td>3.63</td>\n",
       "      <td>69.353905</td>\n",
       "      <td>16.027971</td>\n",
       "      <td>28.334970</td>\n",
       "      <td>28.877253</td>\n",
       "      <td>33.775002</td>\n",
       "      <td>23.899069</td>\n",
       "      <td>83.327873</td>\n",
       "      <td>66.475670</td>\n",
       "      <td>30.291498</td>\n",
       "      <td>72.722725</td>\n",
       "      <td>26.420275</td>\n",
       "      <td>54.680668</td>\n",
       "      <td>34.783981</td>\n",
       "    </tr>\n",
       "  </tbody>\n",
       "</table>\n",
       "</div>"
      ],
      "text/plain": [
       "                  GOOG       AAPL         FB       BABA        AMZN   \n",
       "date                                                                  \n",
       "2014-09-19  592.820374  94.772141  77.910004  93.889999  331.320007  \\\n",
       "2014-09-22  584.157959  94.866035  76.800003  89.889999  324.500000   \n",
       "2014-09-23  577.952087  96.349190  78.290001  87.169998  323.630005   \n",
       "2014-09-24  584.774597  95.513741  78.540001  90.570000  328.209991   \n",
       "2014-09-25  571.915283  91.871544  77.220001  88.919998  321.929993   \n",
       "\n",
       "                   GE   AMD        WMT        BAC         GM          T   \n",
       "date                                                                      \n",
       "2014-09-19  23.421017  3.81  70.009918  16.123091  29.257343  29.198288  \\\n",
       "2014-09-22  23.233936  3.76  69.527008  16.199184  28.826324  29.222982   \n",
       "2014-09-23  23.180481  3.69  68.880135  16.218208  28.636683  29.025425   \n",
       "2014-09-24  23.100300  3.70  70.228569  16.341869  29.007357  29.140667   \n",
       "2014-09-25  22.761770  3.63  69.353905  16.027971  28.334970  28.877253   \n",
       "\n",
       "                  UAA       SHLD        XOM        RRC        BBY         MA   \n",
       "date                                                                           \n",
       "2014-09-19  34.205002  25.780445  85.865265  70.663109  31.521009  75.214302  \\\n",
       "2014-09-22  33.235001  25.519661  85.352486  69.379227  30.664898  74.124245   \n",
       "2014-09-23  33.439999  25.780445  84.901581  69.112587  30.382578  73.491615   \n",
       "2014-09-24  34.340000  24.597599  84.715904  68.085464  30.956347  74.990425   \n",
       "2014-09-25  33.775002  23.899069  83.327873  66.475670  30.291498  72.722725   \n",
       "\n",
       "                  PFE        JPM       SBUX  \n",
       "date                                         \n",
       "2014-09-19  26.790411  55.553379  35.699104  \n",
       "2014-09-22  26.596525  55.371559  35.009247  \n",
       "2014-09-23  26.481960  55.398842  34.708897  \n",
       "2014-09-24  26.711092  56.026096  35.347137  \n",
       "2014-09-25  26.420275  54.680668  34.783981  "
      ]
     },
     "execution_count": 20,
     "metadata": {},
     "output_type": "execute_result"
    }
   ],
   "source": [
    "stocks.head()"
   ]
  },
  {
   "cell_type": "code",
   "execution_count": 21,
   "metadata": {
    "nbgrader": {
     "grade": false,
     "grade_id": "cell-1f2c64da77bd8dd5",
     "locked": false,
     "schema_version": 3,
     "solution": true,
     "task": false
    }
   },
   "outputs": [
    {
     "data": {
      "text/plain": [
       "OrderedDict([('GOOG', 0.0),\n",
       "             ('AAPL', 0.0),\n",
       "             ('FB', 0.0),\n",
       "             ('BABA', 0.0),\n",
       "             ('AMZN', 0.5838208399846879),\n",
       "             ('GE', 0.0),\n",
       "             ('AMD', 0.0071288743052239),\n",
       "             ('WMT', 0.0),\n",
       "             ('BAC', 0.0),\n",
       "             ('GM', 0.0),\n",
       "             ('T', 0.0),\n",
       "             ('UAA', 0.0),\n",
       "             ('SHLD', 0.0),\n",
       "             ('XOM', 0.0),\n",
       "             ('RRC', 0.0),\n",
       "             ('BBY', 0.1044284673603389),\n",
       "             ('MA', 0.2266606231390477),\n",
       "             ('PFE', 0.0),\n",
       "             ('JPM', 0.0779611952107017),\n",
       "             ('SBUX', 0.0)])"
      ]
     },
     "execution_count": 21,
     "metadata": {},
     "output_type": "execute_result"
    }
   ],
   "source": [
    "mu = ''\n",
    "sigma = ''\n",
    "frontier = ''\n",
    "max_sharpe = ''\n",
    "\n",
    "###BEGIN SOLUTION\n",
    "mu = mean_historical_return(stocks)\n",
    "sigma = sample_cov(stocks)\n",
    "frontier = EfficientFrontier(mu, sigma)\n",
    "max_sharpe = frontier.max_sharpe()\n",
    "###END SOLUTION\n",
    "max_sharpe"
   ]
  },
  {
   "cell_type": "code",
   "execution_count": 22,
   "metadata": {
    "nbgrader": {
     "grade": true,
     "grade_id": "cell-8c6f5153af948da1",
     "locked": true,
     "points": 1,
     "schema_version": 3,
     "solution": false,
     "task": false
    }
   },
   "outputs": [],
   "source": [
    "### BEGIN HIDDEN TESTS\n",
    "mu_ = mean_historical_return(stocks)\n",
    "sigma_ = sample_cov(stocks)\n",
    "frontier_ = EfficientFrontier(mu_, sigma_)\n",
    "max_sharpe_ = frontier_.max_sharpe()\n",
    "\n",
    "\n",
    "\n",
    "#\n",
    "#\n",
    "#\n",
    "assert max_sharpe == max_sharpe_\n",
    "### END HIDDEN TESTS"
   ]
  },
  {
   "cell_type": "markdown",
   "metadata": {
    "nbgrader": {
     "grade": false,
     "grade_id": "cell-20abc1d0b5ee85a2",
     "locked": true,
     "schema_version": 3,
     "solution": false,
     "task": false
    }
   },
   "source": [
    "###### [Back to top](#Index:)\n",
    "\n",
    "### Question 4\n",
    "\n",
    "Below a dataset containing students performance in a Portugese school system based on mathematics scores is loaded and prepared. ([source](https://archive.ics.uci.edu/dataset/320/student+performance))  The given `Pipeline` will transform the categorical features and fit a `Lasso` model.  The resulting coefficients are stored in `coef_df`.  How many coefficients are non-zero?  Assign your answer as an integer to `non_zero_coefs` below.\n",
    "\n",
    "Consult the documentation for questions about feature interpretation."
   ]
  },
  {
   "cell_type": "code",
   "execution_count": 23,
   "metadata": {
    "nbgrader": {
     "grade": false,
     "grade_id": "cell-53232083f83f485c",
     "locked": true,
     "schema_version": 3,
     "solution": false,
     "task": false
    }
   },
   "outputs": [
    {
     "data": {
      "text/html": [
       "<div>\n",
       "<style scoped>\n",
       "    .dataframe tbody tr th:only-of-type {\n",
       "        vertical-align: middle;\n",
       "    }\n",
       "\n",
       "    .dataframe tbody tr th {\n",
       "        vertical-align: top;\n",
       "    }\n",
       "\n",
       "    .dataframe thead th {\n",
       "        text-align: right;\n",
       "    }\n",
       "</style>\n",
       "<table border=\"1\" class=\"dataframe\">\n",
       "  <thead>\n",
       "    <tr style=\"text-align: right;\">\n",
       "      <th></th>\n",
       "      <th>school</th>\n",
       "      <th>sex</th>\n",
       "      <th>age</th>\n",
       "      <th>address</th>\n",
       "      <th>famsize</th>\n",
       "      <th>Pstatus</th>\n",
       "      <th>Medu</th>\n",
       "      <th>Fedu</th>\n",
       "      <th>Mjob</th>\n",
       "      <th>Fjob</th>\n",
       "      <th>...</th>\n",
       "      <th>famrel</th>\n",
       "      <th>freetime</th>\n",
       "      <th>goout</th>\n",
       "      <th>Dalc</th>\n",
       "      <th>Walc</th>\n",
       "      <th>health</th>\n",
       "      <th>absences</th>\n",
       "      <th>G1</th>\n",
       "      <th>G2</th>\n",
       "      <th>G3</th>\n",
       "    </tr>\n",
       "  </thead>\n",
       "  <tbody>\n",
       "    <tr>\n",
       "      <th>0</th>\n",
       "      <td>GP</td>\n",
       "      <td>F</td>\n",
       "      <td>18</td>\n",
       "      <td>U</td>\n",
       "      <td>GT3</td>\n",
       "      <td>A</td>\n",
       "      <td>4</td>\n",
       "      <td>4</td>\n",
       "      <td>at_home</td>\n",
       "      <td>teacher</td>\n",
       "      <td>...</td>\n",
       "      <td>4</td>\n",
       "      <td>3</td>\n",
       "      <td>4</td>\n",
       "      <td>1</td>\n",
       "      <td>1</td>\n",
       "      <td>3</td>\n",
       "      <td>6</td>\n",
       "      <td>5</td>\n",
       "      <td>6</td>\n",
       "      <td>6</td>\n",
       "    </tr>\n",
       "    <tr>\n",
       "      <th>1</th>\n",
       "      <td>GP</td>\n",
       "      <td>F</td>\n",
       "      <td>17</td>\n",
       "      <td>U</td>\n",
       "      <td>GT3</td>\n",
       "      <td>T</td>\n",
       "      <td>1</td>\n",
       "      <td>1</td>\n",
       "      <td>at_home</td>\n",
       "      <td>other</td>\n",
       "      <td>...</td>\n",
       "      <td>5</td>\n",
       "      <td>3</td>\n",
       "      <td>3</td>\n",
       "      <td>1</td>\n",
       "      <td>1</td>\n",
       "      <td>3</td>\n",
       "      <td>4</td>\n",
       "      <td>5</td>\n",
       "      <td>5</td>\n",
       "      <td>6</td>\n",
       "    </tr>\n",
       "    <tr>\n",
       "      <th>2</th>\n",
       "      <td>GP</td>\n",
       "      <td>F</td>\n",
       "      <td>15</td>\n",
       "      <td>U</td>\n",
       "      <td>LE3</td>\n",
       "      <td>T</td>\n",
       "      <td>1</td>\n",
       "      <td>1</td>\n",
       "      <td>at_home</td>\n",
       "      <td>other</td>\n",
       "      <td>...</td>\n",
       "      <td>4</td>\n",
       "      <td>3</td>\n",
       "      <td>2</td>\n",
       "      <td>2</td>\n",
       "      <td>3</td>\n",
       "      <td>3</td>\n",
       "      <td>10</td>\n",
       "      <td>7</td>\n",
       "      <td>8</td>\n",
       "      <td>10</td>\n",
       "    </tr>\n",
       "    <tr>\n",
       "      <th>3</th>\n",
       "      <td>GP</td>\n",
       "      <td>F</td>\n",
       "      <td>15</td>\n",
       "      <td>U</td>\n",
       "      <td>GT3</td>\n",
       "      <td>T</td>\n",
       "      <td>4</td>\n",
       "      <td>2</td>\n",
       "      <td>health</td>\n",
       "      <td>services</td>\n",
       "      <td>...</td>\n",
       "      <td>3</td>\n",
       "      <td>2</td>\n",
       "      <td>2</td>\n",
       "      <td>1</td>\n",
       "      <td>1</td>\n",
       "      <td>5</td>\n",
       "      <td>2</td>\n",
       "      <td>15</td>\n",
       "      <td>14</td>\n",
       "      <td>15</td>\n",
       "    </tr>\n",
       "    <tr>\n",
       "      <th>4</th>\n",
       "      <td>GP</td>\n",
       "      <td>F</td>\n",
       "      <td>16</td>\n",
       "      <td>U</td>\n",
       "      <td>GT3</td>\n",
       "      <td>T</td>\n",
       "      <td>3</td>\n",
       "      <td>3</td>\n",
       "      <td>other</td>\n",
       "      <td>other</td>\n",
       "      <td>...</td>\n",
       "      <td>4</td>\n",
       "      <td>3</td>\n",
       "      <td>2</td>\n",
       "      <td>1</td>\n",
       "      <td>2</td>\n",
       "      <td>5</td>\n",
       "      <td>4</td>\n",
       "      <td>6</td>\n",
       "      <td>10</td>\n",
       "      <td>10</td>\n",
       "    </tr>\n",
       "  </tbody>\n",
       "</table>\n",
       "<p>5 rows × 33 columns</p>\n",
       "</div>"
      ],
      "text/plain": [
       "  school sex  age address famsize Pstatus  Medu  Fedu     Mjob      Fjob  ...   \n",
       "0     GP   F   18       U     GT3       A     4     4  at_home   teacher  ...  \\\n",
       "1     GP   F   17       U     GT3       T     1     1  at_home     other  ...   \n",
       "2     GP   F   15       U     LE3       T     1     1  at_home     other  ...   \n",
       "3     GP   F   15       U     GT3       T     4     2   health  services  ...   \n",
       "4     GP   F   16       U     GT3       T     3     3    other     other  ...   \n",
       "\n",
       "  famrel freetime  goout  Dalc  Walc health absences  G1  G2  G3  \n",
       "0      4        3      4     1     1      3        6   5   6   6  \n",
       "1      5        3      3     1     1      3        4   5   5   6  \n",
       "2      4        3      2     2     3      3       10   7   8  10  \n",
       "3      3        2      2     1     1      5        2  15  14  15  \n",
       "4      4        3      2     1     2      5        4   6  10  10  \n",
       "\n",
       "[5 rows x 33 columns]"
      ]
     },
     "execution_count": 23,
     "metadata": {},
     "output_type": "execute_result"
    }
   ],
   "source": [
    "math = pd.read_csv('student-mat.csv', sep = ';')\n",
    "math = math[math['G3'] != 0]\n",
    "math.head()"
   ]
  },
  {
   "cell_type": "code",
   "execution_count": 24,
   "metadata": {
    "nbgrader": {
     "grade": false,
     "grade_id": "cell-8e56c436e999545b",
     "locked": true,
     "schema_version": 3,
     "solution": false,
     "task": false
    }
   },
   "outputs": [
    {
     "data": {
      "text/html": [
       "<div>\n",
       "<style scoped>\n",
       "    .dataframe tbody tr th:only-of-type {\n",
       "        vertical-align: middle;\n",
       "    }\n",
       "\n",
       "    .dataframe tbody tr th {\n",
       "        vertical-align: top;\n",
       "    }\n",
       "\n",
       "    .dataframe thead th {\n",
       "        text-align: right;\n",
       "    }\n",
       "</style>\n",
       "<table border=\"1\" class=\"dataframe\">\n",
       "  <thead>\n",
       "    <tr style=\"text-align: right;\">\n",
       "      <th></th>\n",
       "      <th>features</th>\n",
       "      <th>coef</th>\n",
       "    </tr>\n",
       "  </thead>\n",
       "  <tbody>\n",
       "    <tr>\n",
       "      <th>31</th>\n",
       "      <td>failures</td>\n",
       "      <td>-0.417395</td>\n",
       "    </tr>\n",
       "    <tr>\n",
       "      <th>38</th>\n",
       "      <td>absences</td>\n",
       "      <td>-0.124730</td>\n",
       "    </tr>\n",
       "    <tr>\n",
       "      <th>36</th>\n",
       "      <td>Walc</td>\n",
       "      <td>-0.021020</td>\n",
       "    </tr>\n",
       "    <tr>\n",
       "      <th>34</th>\n",
       "      <td>goout</td>\n",
       "      <td>-0.004312</td>\n",
       "    </tr>\n",
       "    <tr>\n",
       "      <th>21</th>\n",
       "      <td>activities_yes</td>\n",
       "      <td>0.000000</td>\n",
       "    </tr>\n",
       "  </tbody>\n",
       "</table>\n",
       "</div>"
      ],
      "text/plain": [
       "          features      coef\n",
       "31        failures -0.417395\n",
       "38        absences -0.124730\n",
       "36            Walc -0.021020\n",
       "34           goout -0.004312\n",
       "21  activities_yes  0.000000"
      ]
     },
     "execution_count": 24,
     "metadata": {},
     "output_type": "execute_result"
    }
   ],
   "source": [
    "#subset features and target\n",
    "X = math.iloc[:, :-3]\n",
    "y = math.iloc[:, -1]\n",
    "#make transformer\n",
    "transformer = make_column_transformer((OneHotEncoder(drop = 'first'), math.select_dtypes('object').columns.tolist()),\n",
    "                                      remainder = StandardScaler(),\n",
    "                                     verbose_feature_names_out=False)\n",
    "#pipeline to transform and model\n",
    "pipe = Pipeline([('transform', transformer), \n",
    "                 ('model', Lasso(alpha = .5))])\n",
    "#fit the model\n",
    "pipe.fit(X, y)\n",
    "#resulting coefficients\n",
    "coef_df = pd.DataFrame({'features': pipe.named_steps['transform'].get_feature_names_out(),\n",
    "         'coef': pipe.named_steps['model'].coef_}).sort_values(by = 'coef')\n",
    "coef_df.head(5)"
   ]
  },
  {
   "cell_type": "code",
   "execution_count": 25,
   "metadata": {
    "nbgrader": {
     "grade": false,
     "grade_id": "cell-45bd84b0580e123a",
     "locked": false,
     "schema_version": 3,
     "solution": true,
     "task": false
    }
   },
   "outputs": [
    {
     "name": "stdout",
     "output_type": "stream",
     "text": [
      "Using Lasso with alpha = 0.5 resulted in 5 non-zero coefficients.\n"
     ]
    }
   ],
   "source": [
    "non_zero_coefs = ''\n",
    "\n",
    "###BEGIN SOLUTION\n",
    "non_zero_coefs = coef_df[coef_df['coef'] != 0].shape[0]\n",
    "###END SOLUTION\n",
    "print(f'Using Lasso with alpha = 0.5 resulted in {non_zero_coefs} non-zero coefficients.')"
   ]
  },
  {
   "cell_type": "code",
   "execution_count": 26,
   "metadata": {
    "nbgrader": {
     "grade": true,
     "grade_id": "cell-1c4c83844dd69458",
     "locked": true,
     "points": 1,
     "schema_version": 3,
     "solution": false,
     "task": false
    }
   },
   "outputs": [],
   "source": [
    "### BEGIN HIDDEN TESTS\n",
    "non_zero_coefs_ = coef_df[coef_df['coef'] != 0].shape[0]\n",
    "\n",
    "\n",
    "\n",
    "#\n",
    "#\n",
    "#\n",
    "assert non_zero_coefs == non_zero_coefs_, 'How many rows remain if you subset the coef_df to non-zero values?'\n",
    "### END HIDDEN TESTS"
   ]
  },
  {
   "cell_type": "markdown",
   "metadata": {
    "nbgrader": {
     "grade": false,
     "grade_id": "cell-3d37822b651e7f78",
     "locked": true,
     "schema_version": 3,
     "solution": false,
     "task": false
    }
   },
   "source": [
    "Great job!  There are many additional libraries available for non-linear optimization that implement different approaches with and without constraints. This module provided a few important applications of non-linear optimization but there are many more industries and problems where these problems are used as models.  You are encouraged to explore if optimization could play a part in your capstone assignment."
   ]
  }
 ],
 "metadata": {
  "celltoolbar": "Create Assignment",
  "kernelspec": {
   "display_name": "Python 3",
   "language": "python",
   "name": "python3"
  },
  "language_info": {
   "codemirror_mode": {
    "name": "ipython",
    "version": 3
   },
   "file_extension": ".py",
   "mimetype": "text/x-python",
   "name": "python",
   "nbconvert_exporter": "python",
   "pygments_lexer": "ipython3",
   "version": "3.6.9"
  }
 },
 "nbformat": 4,
 "nbformat_minor": 5
}
