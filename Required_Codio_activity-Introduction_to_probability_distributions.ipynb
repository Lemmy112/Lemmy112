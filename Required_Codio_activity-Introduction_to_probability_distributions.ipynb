{
 "cells": [
  {
   "cell_type": "markdown",
   "metadata": {
    "id": "n2LjuuLocya_",
    "nbgrader": {
     "grade": false,
     "grade_id": "cell-a43079186b9b7f73",
     "locked": true,
     "schema_version": 1,
     "solution": false
    }
   },
   "source": [
    "# Required Codio activity: Introduction to probability distributions\n",
    "---\n",
    "## Overview\n",
    "\n",
    "In this activity, you will learn how to create a normal distribution with `scipy`.  The distribution object is created by passing a mean and standard deviation as the `loc` and `scale` argument. From here, the given distribution can be explored and questions about probabilities can be asked using the `pdf`, `ppf`, and `cdf` methods.\n",
    "\n",
    "This activity is designed to build your familiarity and comfort coding in Python while also helping you review key topics from each module. As you progress through the activity, questions will get increasingly more complex. It is important that you adopt a programmer's mindset when completing this activity. Remember to run your code from each cell before submitting your activity, as doing so will give you a chance to fix any errors before submitting.\n",
    "\n",
    "### Learning outcome addressed\n",
    "- Define an outlier."
   ]
  },
  {
   "cell_type": "markdown",
   "metadata": {},
   "source": [
    "## Index:\n",
    "\n",
    "\n",
    "- [Question 1](#Question-1)\n",
    "- [Question 2](#Question-2)\n",
    "- [Question 3](#Question-3)"
   ]
  },
  {
   "cell_type": "code",
   "execution_count": 1,
   "metadata": {
    "id": "tRIWO18demrm",
    "nbgrader": {
     "grade": false,
     "grade_id": "cell-d26431560f7990e8",
     "locked": true,
     "schema_version": 1,
     "solution": false
    }
   },
   "outputs": [],
   "source": [
    "import numpy as np\n",
    "import matplotlib.pyplot as plt\n",
    "import pandas as pd\n",
    "import scipy.stats as stats"
   ]
  },
  {
   "cell_type": "code",
   "execution_count": 2,
   "metadata": {
    "id": "sJRs5u_Wesb_",
    "nbgrader": {
     "grade": false,
     "grade_id": "cell-c2656631f8e09090",
     "locked": true,
     "schema_version": 1,
     "solution": false
    }
   },
   "outputs": [],
   "source": [
    "#create distribution object\n",
    "normal_dist = stats.norm(loc = 12, scale = 1.2)"
   ]
  },
  {
   "cell_type": "markdown",
   "metadata": {
    "id": "5pXS9C3He97b",
    "nbgrader": {
     "grade": false,
     "grade_id": "cell-2e734188fb9fa6ae",
     "locked": true,
     "schema_version": 1,
     "solution": false
    }
   },
   "source": [
    "The distribution object `normal_dist` now has methods that allow you to ask questions about probabilities.  For example, if you want to know the probability of observing a value of 10, you write:\n",
    "\n",
    "```\n",
    "normal_dist.pdf(10)\n",
    "```"
   ]
  },
  {
   "cell_type": "code",
   "execution_count": 3,
   "metadata": {
    "colab": {
     "base_uri": "https://localhost:8080/"
    },
    "id": "9fxhRl7_fULf",
    "nbgrader": {
     "grade": false,
     "grade_id": "cell-b42223fc8f569538",
     "locked": true,
     "schema_version": 1,
     "solution": false
    },
    "outputId": "53f29239-7d9e-4dbd-e298-504185f6a942"
   },
   "outputs": [
    {
     "data": {
      "text/plain": [
       "0.0828976156606239"
      ]
     },
     "execution_count": 3,
     "metadata": {},
     "output_type": "execute_result"
    }
   ],
   "source": [
    "#probability of observing a 10\n",
    "normal_dist.pdf(10)"
   ]
  },
  {
   "cell_type": "markdown",
   "metadata": {
    "id": "ou9J7-AwfgB7",
    "nbgrader": {
     "grade": false,
     "grade_id": "cell-97adcc9e10a02120",
     "locked": true,
     "schema_version": 1,
     "solution": false
    }
   },
   "source": [
    "To visualise the distribution, you evaluate probabilities over a range of values. For example, the probability of observations:\n",
    "\n",
    "$$4 \\leq x \\leq 20$$\n",
    "\n",
    "Below, `numpy` is used to create such a range."
   ]
  },
  {
   "cell_type": "code",
   "execution_count": 4,
   "metadata": {
    "id": "Sk1Nucp-eyiO",
    "nbgrader": {
     "grade": false,
     "grade_id": "cell-1526665f9872163a",
     "locked": true,
     "schema_version": 1,
     "solution": false
    }
   },
   "outputs": [],
   "source": [
    "#range of values to plot over\n",
    "x = np.linspace(4, 20, 1000)"
   ]
  },
  {
   "cell_type": "code",
   "execution_count": 5,
   "metadata": {
    "colab": {
     "base_uri": "https://localhost:8080/",
     "height": 454
    },
    "id": "YDP86JBYe7YG",
    "nbgrader": {
     "grade": false,
     "grade_id": "cell-efcf00e94ccce189",
     "locked": true,
     "schema_version": 1,
     "solution": false
    },
    "outputId": "f2346d0a-a90c-4e25-8610-c846b9f16ece"
   },
   "outputs": [
    {
     "data": {
      "image/png": "[encoded data removed]",
      "text/plain": [
       "<Figure size 432x288 with 1 Axes>"
      ]
     },
     "metadata": {
      "needs_background": "light"
     },
     "output_type": "display_data"
    }
   ],
   "source": [
    "#plot of distribution\n",
    "plt.plot(x, normal_dist.pdf(x));\n",
    "plt.grid()\n",
    "plt.title('Normal distribution with $\\mu = 12$ and $\\sigma = 1.2$');"
   ]
  },
  {
   "cell_type": "markdown",
   "metadata": {
    "id": "f3P7miXmgJaQ",
    "nbgrader": {
     "grade": false,
     "grade_id": "cell-b1c84a51853f6946",
     "locked": true,
     "schema_version": 1,
     "solution": false
    }
   },
   "source": [
    "From the image above, you might note that a value like 20 seems unlikely. In fact, the probability of observing this is .00000000007%. To determine the probability of seeing any values greater than 20, you would add up the probabilities of outcomes less than 20 and subtract them from 1. This is done using the `.cdf` method, which stands for *cumulative density function*, or in other words, the sum of the density function essentially."
   ]
  },
  {
   "cell_type": "code",
   "execution_count": 6,
   "metadata": {
    "colab": {
     "base_uri": "https://localhost:8080/"
    },
    "id": "CwcI1oSwgtzp",
    "nbgrader": {
     "grade": false,
     "grade_id": "cell-12f4a9383bcafd37",
     "locked": true,
     "schema_version": 1,
     "solution": false
    },
    "outputId": "3e4537b0-34fb-4431-eb5d-8557b20c87cf"
   },
   "outputs": [
    {
     "data": {
      "text/plain": [
       "7.425750156126794e-11"
      ]
     },
     "execution_count": 6,
     "metadata": {},
     "output_type": "execute_result"
    }
   ],
   "source": [
    "#probability of observing a 20\n",
    "normal_dist.pdf(20)"
   ]
  },
  {
   "cell_type": "code",
   "execution_count": 7,
   "metadata": {
    "colab": {
     "base_uri": "https://localhost:8080/"
    },
    "id": "W7euVD2xgv9p",
    "nbgrader": {
     "grade": false,
     "grade_id": "cell-d1c395e0c03dc457",
     "locked": true,
     "schema_version": 1,
     "solution": false
    },
    "outputId": "d39dcaec-0386-4974-af4e-d7de29619648"
   },
   "outputs": [
    {
     "data": {
      "text/plain": [
       "1.308397834520747e-11"
      ]
     },
     "execution_count": 7,
     "metadata": {},
     "output_type": "execute_result"
    }
   ],
   "source": [
    "#probability of observing more than a 20\n",
    "1 - normal_dist.cdf(20)"
   ]
  },
  {
   "cell_type": "markdown",
   "metadata": {
    "nbgrader": {
     "grade": false,
     "grade_id": "cell-dd933cc8e398b3d5",
     "locked": true,
     "schema_version": 1,
     "solution": false
    }
   },
   "source": [
    "###### [Back to top](#Index:) \n",
    "\n",
    "### Question 1\n",
    "\n",
    "Perform the following task:\n",
    "- Create a normal distribution with mean 5 and standard deviation of 2 below. Assign your answer as `ans1` below."
   ]
  },
  {
   "cell_type": "code",
   "execution_count": 8,
   "metadata": {
    "nbgrader": {
     "grade": false,
     "grade_id": "cell-8171d22b6f07e884",
     "locked": false,
     "schema_version": 1,
     "solution": true
    }
   },
   "outputs": [
    {
     "data": {
      "image/png": "[encoded data removed]",
      "text/plain": [
       "<Figure size 432x288 with 1 Axes>"
      ]
     },
     "metadata": {
      "needs_background": "light"
     },
     "output_type": "display_data"
    }
   ],
   "source": [
    "ans1 = None\n",
    "### BEGIN SOLUTION \n",
    "ans1 = stats.norm(loc = 5, scale = 2)\n",
    "\n",
    "### END SOLUTION \n",
    "#Answer test\n",
    "x = np.linspace(-1, 11, 1000)\n",
    "plt.plot(x, ans1.pdf(x))\n",
    "plt.grid()\n",
    "plt.title('Normal distribution $\\mu = 5$ and $\\sigma = 2$');"
   ]
  },
  {
   "cell_type": "code",
   "execution_count": 9,
   "metadata": {
    "nbgrader": {
     "grade": true,
     "grade_id": "cell-a4b4c0999e3a0a0b",
     "locked": true,
     "points": 3,
     "schema_version": 1,
     "solution": false
    }
   },
   "outputs": [],
   "source": [
    "### BEGIN HIDDEN TESTS\n",
    "ans1_ = stats.norm(loc = 5, scale = 2)\n",
    "stu_mean = ans1.mean()\n",
    "stu_std = ans1.std()\n",
    "ans_mean_ = ans1_.mean()\n",
    "ans_std_ = ans1_.std()\n",
    "\n",
    "\n",
    "assert stu_mean == ans_mean_\n",
    "assert stu_std == ans_std_\n",
    "### END HIDDEN TESTS"
   ]
  },
  {
   "cell_type": "markdown",
   "metadata": {
    "nbgrader": {
     "grade": false,
     "grade_id": "cell-b6aba85cc10a312f",
     "locked": true,
     "schema_version": 1,
     "solution": false
    }
   },
   "source": [
    "###### [Back to top](#Index:) \n",
    "\n",
    "### Question 2\n",
    "\n",
    "Perform the following task:\n",
    "- Create a normal distribution with mean 7 and standard deviation of 2 below. Assign your answer as `ans2` below."
   ]
  },
  {
   "cell_type": "code",
   "execution_count": 10,
   "metadata": {
    "nbgrader": {
     "grade": false,
     "grade_id": "cell-69065e46daa8db26",
     "locked": false,
     "schema_version": 1,
     "solution": true
    }
   },
   "outputs": [
    {
     "data": {
      "image/png": "[encoded data removed]",
      "text/plain": [
       "<Figure size 432x288 with 1 Axes>"
      ]
     },
     "metadata": {
      "needs_background": "light"
     },
     "output_type": "display_data"
    }
   ],
   "source": [
    "ans2 = None\n",
    "### BEGIN SOLUTION \n",
    "ans2 = stats.norm(loc = 7, scale = 2)\n",
    "\n",
    "### END SOLUTION \n",
    "#Answer test\n",
    "x = np.linspace(0, 15, 1000)\n",
    "plt.plot(x, ans2.pdf(x))\n",
    "plt.grid()\n",
    "plt.title('Normal distribution $\\mu = 7$ and $\\sigma = 2$');"
   ]
  },
  {
   "cell_type": "code",
   "execution_count": 11,
   "metadata": {
    "nbgrader": {
     "grade": true,
     "grade_id": "cell-201d4b548b7a08c0",
     "locked": true,
     "points": 3,
     "schema_version": 1,
     "solution": false
    }
   },
   "outputs": [],
   "source": [
    "### BEGIN HIDDEN TESTS\n",
    "ans2_ = stats.norm(loc = 7, scale = 2)\n",
    "stu_mean = ans2.mean()\n",
    "stu_std = ans2.std()\n",
    "ans_mean_ = ans2_.mean()\n",
    "ans_std_ = ans2_.std()\n",
    "\n",
    "\n",
    "assert ans_mean_ == stu_mean\n",
    "assert ans_std_ == stu_std\n",
    "### END HIDDEN TESTS"
   ]
  },
  {
   "cell_type": "markdown",
   "metadata": {},
   "source": [
    "###### [Back to top](#Index:) \n",
    "\n",
    "### Question 3\n",
    "\n",
    "Perform the following task:\n",
    "- What effect does changing the mean and keeping the standard deviation the same have on the graph of the distribution? Assign your answer as a string `ans3` from the choices below.\n",
    "\n",
    "```\n",
    "a. shift the graph left or right\n",
    "b. makes the graph wider or skinnier\n",
    "c. it changed the shape of the plot\n",
    "d. there is no effect on the plot\n",
    "```"
   ]
  },
  {
   "cell_type": "code",
   "execution_count": 12,
   "metadata": {
    "nbgrader": {
     "grade": false,
     "grade_id": "cell-72a582c397e97447",
     "locked": false,
     "schema_version": 1,
     "solution": true
    }
   },
   "outputs": [
    {
     "name": "stdout",
     "output_type": "stream",
     "text": [
      "Changing the mean causes a normal distribution to: shift the graph left or right\n"
     ]
    }
   ],
   "source": [
    "ans3 = None\n",
    "### BEGIN SOLUTION \n",
    "ans3 = 'a'\n",
    "\n",
    "### END SOLUTION \n",
    "#Answer test\n",
    "choices = {'a': 'shift the graph left or right',\n",
    "            'b': 'makes the graph wider or skinnier',\n",
    "            'c': 'it changed the shape of the plot',\n",
    "            'd': 'there is no effect on the plot'}\n",
    "print(f'Changing the mean causes a normal distribution to: {choices[ans3]}')"
   ]
  },
  {
   "cell_type": "code",
   "execution_count": 13,
   "metadata": {
    "nbgrader": {
     "grade": true,
     "grade_id": "cell-c21a1c53ab03b8d2",
     "locked": true,
     "points": 3,
     "schema_version": 1,
     "solution": false
    }
   },
   "outputs": [],
   "source": [
    "### BEGIN HIDDEN TESTS\n",
    "ans3_ = 'a'\n",
    "#\n",
    "#\n",
    "#\n",
    "assert ans3 == ans3_\n",
    "### END HIDDEN TESTS"
   ]
  },
  {
   "cell_type": "markdown",
   "metadata": {
    "id": "b3d_2CyfhS2u",
    "nbgrader": {
     "grade": false,
     "grade_id": "cell-71c47c4d99861225",
     "locked": true,
     "schema_version": 1,
     "solution": false
    }
   },
   "source": [
    "### Additional resources\n",
    "- For more on the normal distribution, visit [Wikipedia](https://en.wikipedia.org/wiki/Normal_distribution)\n",
    "- Also, check out the `scipy` normal distribution documentation: [scipy docs](https://docs.scipy.org/doc/scipy/reference/generated/scipy.stats.norm.html)\n"
   ]
  },
  {
   "cell_type": "code",
   "execution_count": null,
   "metadata": {},
   "outputs": [],
   "source": []
  }
 ],
 "metadata": {
  "celltoolbar": "Create Assignment",
  "colab": {
   "provenance": []
  },
  "kernelspec": {
   "display_name": "Python 3",
   "language": "python",
   "name": "python3"
  },
  "language_info": {
   "codemirror_mode": {
    "name": "ipython",
    "version": 3
   },
   "file_extension": ".py",
   "mimetype": "text/x-python",
   "name": "python",
   "nbconvert_exporter": "python",
   "pygments_lexer": "ipython3",
   "version": "3.6.9"
  }
 },
 "nbformat": 4,
 "nbformat_minor": 1
}
